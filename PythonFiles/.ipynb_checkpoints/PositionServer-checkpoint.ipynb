{
 "cells": [
  {
   "cell_type": "code",
   "execution_count": null,
   "metadata": {},
   "outputs": [],
   "source": [
    "import time\n",
    "import zmq\n",
    "import random\n",
    "\n",
    "context = zmq.Context()\n",
    "socket = context.socket(zmq.REP)\n",
    "socket.bind(\"tcp://*:5555\")\n",
    "\n",
    "while True:\n",
    "    #  Wait for next request from client\n",
    "    message = socket.recv()\n",
    "    print(\"Received request: %s\" % message)\n",
    "\n",
    "    #  Do some 'work'.\n",
    "    #  Try reducing sleep time to 0.01 to see how blazingly fast it communicates\n",
    "    #  In the real world usage, you just need to replace time.sleep() with\n",
    "    #  whatever work you want python to do, maybe a machine learning task?\n",
    "    #time.sleep(1)\n",
    "    \n",
    "    x = random.random()\n",
    "    y = random.random()\n",
    "    z = random.random()\n",
    "    \n",
    "    output = str(x) + \",\" + str(y) + \",\" + str(z)\n",
    "    output_byte = str.encode(output)\n",
    "\n",
    "    #  Send reply back to client\n",
    "    #  In the real world usage, after you finish your work, send your output here\n",
    "    socket.send(b\"%s\" % output_byte)"
   ]
  }
 ],
 "metadata": {
  "kernelspec": {
   "display_name": "Python 3",
   "language": "python",
   "name": "python3"
  },
  "language_info": {
   "codemirror_mode": {
    "name": "ipython",
    "version": 3
   },
   "file_extension": ".py",
   "mimetype": "text/x-python",
   "name": "python",
   "nbconvert_exporter": "python",
   "pygments_lexer": "ipython3",
   "version": "3.8.5"
  }
 },
 "nbformat": 4,
 "nbformat_minor": 4
}
