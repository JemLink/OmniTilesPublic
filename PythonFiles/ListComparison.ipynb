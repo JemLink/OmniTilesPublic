{
 "cells": [
  {
   "cell_type": "code",
   "execution_count": 3,
   "metadata": {},
   "outputs": [
    {
     "name": "stdout",
     "output_type": "stream",
     "text": [
      "Array  [2, 2, 4, 4, 1, 1]\n",
      "Sim:  (6, [1, 2])\n"
     ]
    }
   ],
   "source": [
    "import numpy as np\n",
    "import cv2\n",
    "import math\n",
    "import collections as coll\n",
    "\n",
    "\n",
    "\n",
    "testLib = [[0, [3, 4, 1, 2, 3, 4, 1, 2]], [1, [1, 1, 2, 2, 3, 3, 4, 4]], [2, [1, 1, 2, 2, 1, 3, 4, 4]]]\n",
    "\n",
    "testCompArr = [2, 2, 4, 4, 1, 1]\n",
    "\n",
    "\n",
    "    \n",
    "    \n",
    "# this returns all the lib entries with the highest similarity as well as the similarity\n",
    "def getSimAndIDsOfLib(arr, lib):\n",
    "    \n",
    "    tmpSim = 0\n",
    "    maxSim = 0\n",
    "    simLibIDs = []\n",
    "    \n",
    "    for libArr in lib:\n",
    "        if len(arr) < len(libArr[1]):\n",
    "            tmpSim = rollAroundSim(arr, libArr[1])\n",
    "        else:\n",
    "            tmpSim = rollAroundSim(libArr[1], arr)\n",
    "        \n",
    "            \n",
    "        \n",
    "        if tmpSim > maxSim:\n",
    "            maxSim = tmpSim\n",
    "            simLibIDs = []\n",
    "            simLibIDs.append(libArr[0])\n",
    "        elif tmpSim == maxSim:\n",
    "            simLibIDs.append(libArr[0])\n",
    "           \n",
    "       \n",
    "    return maxSim, simLibIDs\n",
    "            \n",
    "    \n",
    "    \n",
    "def rollAroundSim(arrShort, arrLong):\n",
    "    \n",
    "    maxSim = 0\n",
    "    \n",
    "    # roll around short array to get comparisons like:\n",
    "    # [2, 3, 4, 1, 2, 3, 1] and [3, 4, 1, 2, 3, 4, 1, 2]\n",
    "    for i in range(0, len(arrShort)):\n",
    "        \n",
    "        # roll around long array\n",
    "        for j in range(0, len(arrLong)):\n",
    "\n",
    "            tmpSim = 0\n",
    "\n",
    "            # compare sequence of short array against long array\n",
    "            for x in range(0, len(arrShort)):\n",
    "                if arrShort[x] == arrLong[x]:\n",
    "                    tmpSim += 1\n",
    "\n",
    "            if tmpSim > maxSim:\n",
    "                maxSim = tmpSim\n",
    "\n",
    "            arrLong = np.roll(arrLong, 1)\n",
    "        arrShort = np.roll(arrShort, 1)\n",
    "    \n",
    "    return maxSim\n",
    "  \n",
    "  \n",
    "\n",
    "            \n",
    "\n",
    "def main():\n",
    "    print(\"Array \", testCompArr)\n",
    "    print(\"Sim: \", getSimAndIDsOfLib(testCompArr, testLib))\n",
    "    return\n",
    "\n",
    "\n",
    "if __name__ == '__main__':\n",
    "    main()"
   ]
  },
  {
   "cell_type": "code",
   "execution_count": null,
   "metadata": {},
   "outputs": [],
   "source": []
  }
 ],
 "metadata": {
  "kernelspec": {
   "display_name": "Python 3",
   "language": "python",
   "name": "python3"
  },
  "language_info": {
   "codemirror_mode": {
    "name": "ipython",
    "version": 3
   },
   "file_extension": ".py",
   "mimetype": "text/x-python",
   "name": "python",
   "nbconvert_exporter": "python",
   "pygments_lexer": "ipython3",
   "version": "3.8.5"
  }
 },
 "nbformat": 4,
 "nbformat_minor": 4
}
